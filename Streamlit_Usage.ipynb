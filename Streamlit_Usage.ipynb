{
  "nbformat": 4,
  "nbformat_minor": 0,
  "metadata": {
    "colab": {
      "provenance": [],
      "gpuType": "T4"
    },
    "kernelspec": {
      "name": "python3",
      "display_name": "Python 3"
    },
    "language_info": {
      "name": "python"
    },
    "accelerator": "GPU"
  },
  "cells": [
    {
      "cell_type": "code",
      "source": [
        "! pip install streamlit -q\n",
        "!wget -q -O - ipv4.icanhazip.com\n",
        "##### run the streamlit app ####\n",
        "!streamlit run neural_style_transfer.py & npx localtunnel --port 8501"
      ],
      "metadata": {
        "id": "Abf5euvESNpm"
      },
      "execution_count": null,
      "outputs": []
    }
  ]
}